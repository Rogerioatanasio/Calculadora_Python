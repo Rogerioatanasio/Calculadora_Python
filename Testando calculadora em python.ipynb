{
 "cells": [
  {
   "cell_type": "code",
   "execution_count": 27,
   "id": "13427f73",
   "metadata": {},
   "outputs": [
    {
     "name": "stdout",
     "output_type": "stream",
     "text": [
      "*************** Calculadora Python *******************\n"
     ]
    }
   ],
   "source": [
    "print('*************** Calculadora Python *******************')\n",
    "def add(x,y):\n",
    "    return x + y\n",
    "\n",
    "def subtract(x,y):\n",
    "    return x - y \n",
    "\n",
    "def multiply(x,y):\n",
    "    return x * y\n",
    "\n",
    "def divide(x,y):\n",
    "    return x / y\n"
   ]
  },
  {
   "cell_type": "code",
   "execution_count": 28,
   "id": "61f64982",
   "metadata": {},
   "outputs": [
    {
     "name": "stdout",
     "output_type": "stream",
     "text": [
      "\n",
      "Selecione o numero da operação desejada: \n",
      "\n",
      "1 - Soma\n",
      "2 - Subtração\n",
      "3 - Multiplicação\n",
      "4 - Divisão\n"
     ]
    }
   ],
   "source": [
    "print('\\nSelecione o numero da operação desejada: \\n')\n",
    "print('1 - Soma')\n",
    "print('2 - Subtração')\n",
    "print('3 - Multiplicação')\n",
    "print('4 - Divisão')"
   ]
  },
  {
   "cell_type": "code",
   "execution_count": 29,
   "id": "7985dcb7",
   "metadata": {},
   "outputs": [
    {
     "name": "stdout",
     "output_type": "stream",
     "text": [
      "\n",
      "Digite sua opção(1/2/3/4): 3\n"
     ]
    }
   ],
   "source": [
    "escolha = input('\\nDigite sua opção(1/2/3/4): ')"
   ]
  },
  {
   "cell_type": "code",
   "execution_count": 30,
   "id": "29808a24",
   "metadata": {},
   "outputs": [
    {
     "name": "stdout",
     "output_type": "stream",
     "text": [
      "\n",
      "Digite o primeiro numero: 24\n",
      "\n",
      "Digite o segundo numero: 25\n"
     ]
    }
   ],
   "source": [
    "num1 = int(input('\\nDigite o primeiro numero: '))\n",
    "num2 = int(input('\\nDigite o segundo numero: '))"
   ]
  },
  {
   "cell_type": "code",
   "execution_count": 31,
   "id": "f8c1ea55",
   "metadata": {},
   "outputs": [
    {
     "name": "stdout",
     "output_type": "stream",
     "text": [
      "\n",
      "\n",
      "24 * 25 = 600\n",
      "\n",
      "\n"
     ]
    }
   ],
   "source": [
    "if escolha == '1':\n",
    "    print('\\n')\n",
    "    print(num1, '+', num2, '=', add(num1, num2))\n",
    "    print('\\n')\n",
    "    \n",
    "elif escolha == '2':\n",
    "    print('\\n')\n",
    "    print(num1, '-', num2, '=', subtract(num1, num2))\n",
    "    print('\\n')\n",
    "    \n",
    "elif escolha == '3':\n",
    "    print('\\n')\n",
    "    print(num1, '*', num2, '=', multiply(num1, num2))\n",
    "    print('\\n')\n",
    "    \n",
    "elif escolha == '4':\n",
    "    print('\\n')\n",
    "    print(num1, '/', num2,'=', divide(num1, num2) )\n",
    "    print('\\n')\n",
    "    \n",
    "else:\n",
    "    print('\\nOpção invalida!')\n",
    "    "
   ]
  },
  {
   "cell_type": "code",
   "execution_count": null,
   "id": "6f9694e2",
   "metadata": {},
   "outputs": [],
   "source": []
  },
  {
   "cell_type": "code",
   "execution_count": null,
   "id": "44d17343",
   "metadata": {},
   "outputs": [],
   "source": []
  }
 ],
 "metadata": {
  "kernelspec": {
   "display_name": "Python 3 (ipykernel)",
   "language": "python",
   "name": "python3"
  },
  "language_info": {
   "codemirror_mode": {
    "name": "ipython",
    "version": 3
   },
   "file_extension": ".py",
   "mimetype": "text/x-python",
   "name": "python",
   "nbconvert_exporter": "python",
   "pygments_lexer": "ipython3",
   "version": "3.9.13"
  }
 },
 "nbformat": 4,
 "nbformat_minor": 5
}
